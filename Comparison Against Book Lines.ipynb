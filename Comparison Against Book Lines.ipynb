{
 "cells": [
  {
   "cell_type": "markdown",
   "metadata": {},
   "source": [
    "# Overview\n",
    "\n",
    "In this notebook, I will compare predictions on the 2021 season from my final model against historical odds. Data for the historical odds was gathered from [Sportsbook Reviews Online](https://www.sportsbookreviewsonline.com/scoresoddsarchives/nhl/nhloddsarchives.htm). Per their website: Data is sourced from various online sportsbooks including 5dimes, BetOnline, Bookmaker, Heritage, Pinnacle Sports, Sportsbook.com as well as the Westgate Superbook in Las Vegas.\n",
    "\n",
    "I will look at 2 simple betting strategies to determine profitability:\n",
    "\n",
    "1. Bet 100 on every game where either the home or away team winning probability from my model is higher than the implied odds  \n",
    "2. Bet to win 100 on every game where either the home or away team winning probability from my model is higher than the implied odds"
   ]
  },
  {
   "cell_type": "markdown",
   "metadata": {},
   "source": [
    "# Data Cleaning and Merging"
   ]
  },
  {
   "cell_type": "code",
   "execution_count": 324,
   "metadata": {
    "ExecuteTime": {
     "end_time": "2021-05-10T23:33:56.662544Z",
     "start_time": "2021-05-10T23:33:56.657863Z"
    }
   },
   "outputs": [],
   "source": [
    "import pandas as pd\n",
    "import matplotlib.pyplot as plt\n",
    "import seaborn as sns\n",
    "import numpy as np\n",
    "import pickle\n",
    "sns.set_style(\"darkgrid\")\n",
    "pd.set_option('display.max_columns', None)"
   ]
  },
  {
   "cell_type": "code",
   "execution_count": 325,
   "metadata": {
    "ExecuteTime": {
     "end_time": "2021-05-10T23:33:56.916977Z",
     "start_time": "2021-05-10T23:33:56.665797Z"
    }
   },
   "outputs": [],
   "source": [
    "odds = pd.read_excel('data/nhl odds 2021.xlsx')"
   ]
  },
  {
   "cell_type": "code",
   "execution_count": 326,
   "metadata": {
    "ExecuteTime": {
     "end_time": "2021-05-10T23:33:56.932430Z",
     "start_time": "2021-05-10T23:33:56.919427Z"
    }
   },
   "outputs": [
    {
     "data": {
      "text/html": [
       "<div>\n",
       "<style scoped>\n",
       "    .dataframe tbody tr th:only-of-type {\n",
       "        vertical-align: middle;\n",
       "    }\n",
       "\n",
       "    .dataframe tbody tr th {\n",
       "        vertical-align: top;\n",
       "    }\n",
       "\n",
       "    .dataframe thead th {\n",
       "        text-align: right;\n",
       "    }\n",
       "</style>\n",
       "<table border=\"1\" class=\"dataframe\">\n",
       "  <thead>\n",
       "    <tr style=\"text-align: right;\">\n",
       "      <th></th>\n",
       "      <th>Date</th>\n",
       "      <th>Rot</th>\n",
       "      <th>VH</th>\n",
       "      <th>Team</th>\n",
       "      <th>1st</th>\n",
       "      <th>2nd</th>\n",
       "      <th>3rd</th>\n",
       "      <th>Final</th>\n",
       "      <th>Open</th>\n",
       "      <th>Close</th>\n",
       "      <th>PuckLine</th>\n",
       "      <th>Unnamed: 11</th>\n",
       "      <th>OpenOU</th>\n",
       "      <th>Unnamed: 13</th>\n",
       "      <th>CloseOU</th>\n",
       "      <th>Unnamed: 15</th>\n",
       "    </tr>\n",
       "  </thead>\n",
       "  <tbody>\n",
       "    <tr>\n",
       "      <th>0</th>\n",
       "      <td>113</td>\n",
       "      <td>41</td>\n",
       "      <td>V</td>\n",
       "      <td>Pittsburgh</td>\n",
       "      <td>1</td>\n",
       "      <td>1</td>\n",
       "      <td>1</td>\n",
       "      <td>3</td>\n",
       "      <td>-110</td>\n",
       "      <td>-115</td>\n",
       "      <td>1.5</td>\n",
       "      <td>-310</td>\n",
       "      <td>6.0</td>\n",
       "      <td>-110</td>\n",
       "      <td>6.0</td>\n",
       "      <td>105</td>\n",
       "    </tr>\n",
       "    <tr>\n",
       "      <th>1</th>\n",
       "      <td>113</td>\n",
       "      <td>42</td>\n",
       "      <td>H</td>\n",
       "      <td>Philadelphia</td>\n",
       "      <td>2</td>\n",
       "      <td>1</td>\n",
       "      <td>3</td>\n",
       "      <td>6</td>\n",
       "      <td>100</td>\n",
       "      <td>-105</td>\n",
       "      <td>-1.5</td>\n",
       "      <td>260</td>\n",
       "      <td>6.0</td>\n",
       "      <td>-110</td>\n",
       "      <td>6.0</td>\n",
       "      <td>-125</td>\n",
       "    </tr>\n",
       "    <tr>\n",
       "      <th>2</th>\n",
       "      <td>113</td>\n",
       "      <td>43</td>\n",
       "      <td>V</td>\n",
       "      <td>Montreal</td>\n",
       "      <td>2</td>\n",
       "      <td>1</td>\n",
       "      <td>1</td>\n",
       "      <td>0</td>\n",
       "      <td>132</td>\n",
       "      <td>120</td>\n",
       "      <td>1.5</td>\n",
       "      <td>-220</td>\n",
       "      <td>6.0</td>\n",
       "      <td>-110</td>\n",
       "      <td>6.0</td>\n",
       "      <td>-110</td>\n",
       "    </tr>\n",
       "    <tr>\n",
       "      <th>3</th>\n",
       "      <td>113</td>\n",
       "      <td>44</td>\n",
       "      <td>H</td>\n",
       "      <td>Toronto</td>\n",
       "      <td>1</td>\n",
       "      <td>2</td>\n",
       "      <td>1</td>\n",
       "      <td>1</td>\n",
       "      <td>-145</td>\n",
       "      <td>-140</td>\n",
       "      <td>-1.5</td>\n",
       "      <td>195</td>\n",
       "      <td>6.0</td>\n",
       "      <td>-110</td>\n",
       "      <td>6.0</td>\n",
       "      <td>-110</td>\n",
       "    </tr>\n",
       "    <tr>\n",
       "      <th>4</th>\n",
       "      <td>113</td>\n",
       "      <td>45</td>\n",
       "      <td>V</td>\n",
       "      <td>Chicago</td>\n",
       "      <td>0</td>\n",
       "      <td>0</td>\n",
       "      <td>1</td>\n",
       "      <td>1</td>\n",
       "      <td>230</td>\n",
       "      <td>210</td>\n",
       "      <td>1.5</td>\n",
       "      <td>-125</td>\n",
       "      <td>6.5</td>\n",
       "      <td>-110</td>\n",
       "      <td>6.5</td>\n",
       "      <td>-110</td>\n",
       "    </tr>\n",
       "  </tbody>\n",
       "</table>\n",
       "</div>"
      ],
      "text/plain": [
       "   Date  Rot VH          Team  1st  2nd  3rd Final  Open  Close  PuckLine  \\\n",
       "0   113   41  V    Pittsburgh    1    1    1     3  -110   -115       1.5   \n",
       "1   113   42  H  Philadelphia    2    1    3     6   100   -105      -1.5   \n",
       "2   113   43  V      Montreal    2    1    1     0   132    120       1.5   \n",
       "3   113   44  H       Toronto    1    2    1     1  -145   -140      -1.5   \n",
       "4   113   45  V       Chicago    0    0    1     1   230    210       1.5   \n",
       "\n",
       "   Unnamed: 11  OpenOU  Unnamed: 13  CloseOU Unnamed: 15  \n",
       "0         -310     6.0         -110      6.0         105  \n",
       "1          260     6.0         -110      6.0        -125  \n",
       "2         -220     6.0         -110      6.0        -110  \n",
       "3          195     6.0         -110      6.0        -110  \n",
       "4         -125     6.5         -110      6.5        -110  "
      ]
     },
     "execution_count": 326,
     "metadata": {},
     "output_type": "execute_result"
    }
   ],
   "source": [
    "odds.head()"
   ]
  },
  {
   "cell_type": "code",
   "execution_count": 327,
   "metadata": {
    "ExecuteTime": {
     "end_time": "2021-05-10T23:33:56.938812Z",
     "start_time": "2021-05-10T23:33:56.934400Z"
    }
   },
   "outputs": [],
   "source": [
    "team_conversion =   { 'Anaheim': 'ANA', \n",
    "                      'Arizona' :'ARI', \n",
    "                      'Boston': 'BOS', \n",
    "                      'Buffalo':'BUF',\n",
    "                      'Calgary': 'CGY', \n",
    "                      'Carolina': 'CAR', \n",
    "                      'Chicago': 'CHI', \n",
    "                      'Colorado': 'COL',\n",
    "                     'Columbus': 'CBJ',\n",
    "                     'Dallas': 'DAL',\n",
    "                     'Detroit': 'DET',\n",
    "                     'Edmonton': 'EDM',\n",
    "                     'Florida': 'FLA',\n",
    "                     'LosAngeles': 'L.A',\n",
    "                     'Minnesota': 'MIN',\n",
    "                     'Montreal': 'MTL',\n",
    "                     'Nashville': 'NSH',\n",
    "                     'NewJersey': 'N.J',\n",
    "                     'NYIslanders': 'NYI',\n",
    "                     'NYRangers': 'NYR',\n",
    "                     'Ottawa': 'OTT',\n",
    "                     'Philadelphia': 'PHI',\n",
    "                     'Pittsburgh': 'PIT',\n",
    "                     'SanJose': 'S.J',\n",
    "                     'St.Louis': 'STL',\n",
    "                     'TampaBay': 'T.B',\n",
    "                     'Toronto': 'TOR',\n",
    "                     'Vancouver': 'VAN',\n",
    "                      'Vegas':'VGK',\n",
    "                     'Washington': 'WSH',\n",
    "                     'Winnipeg': 'WPG'}"
   ]
  },
  {
   "cell_type": "code",
   "execution_count": 328,
   "metadata": {
    "ExecuteTime": {
     "end_time": "2021-05-10T23:33:56.971843Z",
     "start_time": "2021-05-10T23:33:56.940470Z"
    }
   },
   "outputs": [],
   "source": [
    "#convert date to proper datestring and create team key\n",
    "odds = odds.replace({'Team': team_conversion})\n",
    "odds['Month'] = odds['Date'].apply(lambda x: '0'+str(x)[0])\n",
    "odds['Day'] = odds['Date'].apply(lambda x: str(x)[1:])\n",
    "odds['Year'] = 2021\n",
    "odds['Datestring'] = odds[['Year','Month','Day']].astype(str).apply('-'.join, 1)       \n",
    "odds['Team_Key'] = odds['Team'].astype(str)+'_'+odds['Datestring'].astype(str)\n",
    "#calculate implied odds\n",
    "odds['Implied_odds'] = np.where(odds['Close'] < 0, (odds['Close']*-1)/((odds['Close']*-1)+100) , 100/(odds['Close']+100))"
   ]
  },
  {
   "cell_type": "code",
   "execution_count": 329,
   "metadata": {
    "ExecuteTime": {
     "end_time": "2021-05-10T23:33:56.997575Z",
     "start_time": "2021-05-10T23:33:56.976058Z"
    },
    "scrolled": true
   },
   "outputs": [
    {
     "data": {
      "text/html": [
       "<div>\n",
       "<style scoped>\n",
       "    .dataframe tbody tr th:only-of-type {\n",
       "        vertical-align: middle;\n",
       "    }\n",
       "\n",
       "    .dataframe tbody tr th {\n",
       "        vertical-align: top;\n",
       "    }\n",
       "\n",
       "    .dataframe thead th {\n",
       "        text-align: right;\n",
       "    }\n",
       "</style>\n",
       "<table border=\"1\" class=\"dataframe\">\n",
       "  <thead>\n",
       "    <tr style=\"text-align: right;\">\n",
       "      <th></th>\n",
       "      <th>Date</th>\n",
       "      <th>Rot</th>\n",
       "      <th>VH</th>\n",
       "      <th>Team</th>\n",
       "      <th>1st</th>\n",
       "      <th>2nd</th>\n",
       "      <th>3rd</th>\n",
       "      <th>Final</th>\n",
       "      <th>Open</th>\n",
       "      <th>Close</th>\n",
       "      <th>PuckLine</th>\n",
       "      <th>Unnamed: 11</th>\n",
       "      <th>OpenOU</th>\n",
       "      <th>Unnamed: 13</th>\n",
       "      <th>CloseOU</th>\n",
       "      <th>Unnamed: 15</th>\n",
       "      <th>Month</th>\n",
       "      <th>Day</th>\n",
       "      <th>Year</th>\n",
       "      <th>Datestring</th>\n",
       "      <th>Team_Key</th>\n",
       "      <th>Implied_odds</th>\n",
       "    </tr>\n",
       "  </thead>\n",
       "  <tbody>\n",
       "    <tr>\n",
       "      <th>0</th>\n",
       "      <td>113</td>\n",
       "      <td>41</td>\n",
       "      <td>V</td>\n",
       "      <td>PIT</td>\n",
       "      <td>1</td>\n",
       "      <td>1</td>\n",
       "      <td>1</td>\n",
       "      <td>3</td>\n",
       "      <td>-110</td>\n",
       "      <td>-115</td>\n",
       "      <td>1.5</td>\n",
       "      <td>-310</td>\n",
       "      <td>6.0</td>\n",
       "      <td>-110</td>\n",
       "      <td>6.0</td>\n",
       "      <td>105</td>\n",
       "      <td>01</td>\n",
       "      <td>13</td>\n",
       "      <td>2021</td>\n",
       "      <td>2021-01-13</td>\n",
       "      <td>PIT_2021-01-13</td>\n",
       "      <td>0.534884</td>\n",
       "    </tr>\n",
       "    <tr>\n",
       "      <th>1</th>\n",
       "      <td>113</td>\n",
       "      <td>42</td>\n",
       "      <td>H</td>\n",
       "      <td>PHI</td>\n",
       "      <td>2</td>\n",
       "      <td>1</td>\n",
       "      <td>3</td>\n",
       "      <td>6</td>\n",
       "      <td>100</td>\n",
       "      <td>-105</td>\n",
       "      <td>-1.5</td>\n",
       "      <td>260</td>\n",
       "      <td>6.0</td>\n",
       "      <td>-110</td>\n",
       "      <td>6.0</td>\n",
       "      <td>-125</td>\n",
       "      <td>01</td>\n",
       "      <td>13</td>\n",
       "      <td>2021</td>\n",
       "      <td>2021-01-13</td>\n",
       "      <td>PHI_2021-01-13</td>\n",
       "      <td>0.512195</td>\n",
       "    </tr>\n",
       "    <tr>\n",
       "      <th>2</th>\n",
       "      <td>113</td>\n",
       "      <td>43</td>\n",
       "      <td>V</td>\n",
       "      <td>MTL</td>\n",
       "      <td>2</td>\n",
       "      <td>1</td>\n",
       "      <td>1</td>\n",
       "      <td>0</td>\n",
       "      <td>132</td>\n",
       "      <td>120</td>\n",
       "      <td>1.5</td>\n",
       "      <td>-220</td>\n",
       "      <td>6.0</td>\n",
       "      <td>-110</td>\n",
       "      <td>6.0</td>\n",
       "      <td>-110</td>\n",
       "      <td>01</td>\n",
       "      <td>13</td>\n",
       "      <td>2021</td>\n",
       "      <td>2021-01-13</td>\n",
       "      <td>MTL_2021-01-13</td>\n",
       "      <td>0.454545</td>\n",
       "    </tr>\n",
       "    <tr>\n",
       "      <th>3</th>\n",
       "      <td>113</td>\n",
       "      <td>44</td>\n",
       "      <td>H</td>\n",
       "      <td>TOR</td>\n",
       "      <td>1</td>\n",
       "      <td>2</td>\n",
       "      <td>1</td>\n",
       "      <td>1</td>\n",
       "      <td>-145</td>\n",
       "      <td>-140</td>\n",
       "      <td>-1.5</td>\n",
       "      <td>195</td>\n",
       "      <td>6.0</td>\n",
       "      <td>-110</td>\n",
       "      <td>6.0</td>\n",
       "      <td>-110</td>\n",
       "      <td>01</td>\n",
       "      <td>13</td>\n",
       "      <td>2021</td>\n",
       "      <td>2021-01-13</td>\n",
       "      <td>TOR_2021-01-13</td>\n",
       "      <td>0.583333</td>\n",
       "    </tr>\n",
       "    <tr>\n",
       "      <th>4</th>\n",
       "      <td>113</td>\n",
       "      <td>45</td>\n",
       "      <td>V</td>\n",
       "      <td>CHI</td>\n",
       "      <td>0</td>\n",
       "      <td>0</td>\n",
       "      <td>1</td>\n",
       "      <td>1</td>\n",
       "      <td>230</td>\n",
       "      <td>210</td>\n",
       "      <td>1.5</td>\n",
       "      <td>-125</td>\n",
       "      <td>6.5</td>\n",
       "      <td>-110</td>\n",
       "      <td>6.5</td>\n",
       "      <td>-110</td>\n",
       "      <td>01</td>\n",
       "      <td>13</td>\n",
       "      <td>2021</td>\n",
       "      <td>2021-01-13</td>\n",
       "      <td>CHI_2021-01-13</td>\n",
       "      <td>0.322581</td>\n",
       "    </tr>\n",
       "  </tbody>\n",
       "</table>\n",
       "</div>"
      ],
      "text/plain": [
       "   Date  Rot VH Team  1st  2nd  3rd Final  Open  Close  PuckLine  Unnamed: 11  \\\n",
       "0   113   41  V  PIT    1    1    1     3  -110   -115       1.5         -310   \n",
       "1   113   42  H  PHI    2    1    3     6   100   -105      -1.5          260   \n",
       "2   113   43  V  MTL    2    1    1     0   132    120       1.5         -220   \n",
       "3   113   44  H  TOR    1    2    1     1  -145   -140      -1.5          195   \n",
       "4   113   45  V  CHI    0    0    1     1   230    210       1.5         -125   \n",
       "\n",
       "   OpenOU  Unnamed: 13  CloseOU Unnamed: 15 Month Day  Year  Datestring  \\\n",
       "0     6.0         -110      6.0         105    01  13  2021  2021-01-13   \n",
       "1     6.0         -110      6.0        -125    01  13  2021  2021-01-13   \n",
       "2     6.0         -110      6.0        -110    01  13  2021  2021-01-13   \n",
       "3     6.0         -110      6.0        -110    01  13  2021  2021-01-13   \n",
       "4     6.5         -110      6.5        -110    01  13  2021  2021-01-13   \n",
       "\n",
       "         Team_Key  Implied_odds  \n",
       "0  PIT_2021-01-13      0.534884  \n",
       "1  PHI_2021-01-13      0.512195  \n",
       "2  MTL_2021-01-13      0.454545  \n",
       "3  TOR_2021-01-13      0.583333  \n",
       "4  CHI_2021-01-13      0.322581  "
      ]
     },
     "execution_count": 329,
     "metadata": {},
     "output_type": "execute_result"
    }
   ],
   "source": [
    "odds.head(5)"
   ]
  },
  {
   "cell_type": "code",
   "execution_count": 330,
   "metadata": {
    "ExecuteTime": {
     "end_time": "2021-05-10T23:33:57.016450Z",
     "start_time": "2021-05-10T23:33:57.001135Z"
    }
   },
   "outputs": [],
   "source": [
    "#import file with predictions\n",
    "predictions = pd.read_csv('data/Predictions_2021')"
   ]
  },
  {
   "cell_type": "code",
   "execution_count": 331,
   "metadata": {
    "ExecuteTime": {
     "end_time": "2021-05-10T23:33:57.044860Z",
     "start_time": "2021-05-10T23:33:57.018968Z"
    }
   },
   "outputs": [],
   "source": [
    "#merge my predictions with odd df\n",
    "df = predictions.merge(odds.loc[:,['Team_Key', 'Implied_odds', 'Close']].add_prefix('home_'), how = 'left', left_on = 'Home_Team_Key', right_on = 'home_Team_Key').drop(columns = 'home_Team_Key')\n",
    "df = df.merge(odds.loc[:,['Team_Key', 'Implied_odds', 'Close']].add_prefix('away_'), how = 'left', left_on = 'Away_Team_Key', right_on = 'away_Team_Key').drop(columns = 'away_Team_Key')"
   ]
  },
  {
   "cell_type": "code",
   "execution_count": 332,
   "metadata": {
    "ExecuteTime": {
     "end_time": "2021-05-10T23:33:57.055734Z",
     "start_time": "2021-05-10T23:33:57.047135Z"
    },
    "scrolled": true
   },
   "outputs": [
    {
     "data": {
      "text/plain": [
       "Unnamed: 0                      0\n",
       "game_id                         0\n",
       "date                            0\n",
       "venue                           0\n",
       "home_team                       0\n",
       "away_team                       0\n",
       "start_time                      0\n",
       "home_score                      0\n",
       "away_score                      0\n",
       "status                          0\n",
       "Home_Team_Won                   0\n",
       "Home_Team_Key                   0\n",
       "Away_Team_Key                   0\n",
       "home_Game_Number                0\n",
       "away_Game_Number                0\n",
       "home_goalie                     0\n",
       "home_Goalie_FenwickSV%          0\n",
       "home_Goalie_GSAx/60             0\n",
       "home_Goalie_HDCSV%              0\n",
       "away_goalie                     0\n",
       "away_Goalie_FenwickSV%          0\n",
       "away_Goalie_GSAx/60             0\n",
       "away_Goalie_HDCSV%              0\n",
       "home_last_40_FF%_5v5            0\n",
       "home_last_40_GF%_5v5            0\n",
       "home_last_40_xGF%_5v5           0\n",
       "home_last_40_SH%                0\n",
       "home_last40_pp_TOI_per_game     0\n",
       "home_last40_xGF_per_min_pp      0\n",
       "home_last40_GF_per_min_pp       0\n",
       "home_last40_pk_TOI_per_game     0\n",
       "home_last40_xGA_per_min_pk      0\n",
       "home_last40_GA_per_min_pk       0\n",
       "away_last_40_FF%_5v5            0\n",
       "away_last_40_GF%_5v5            0\n",
       "away_last_40_xGF%_5v5           0\n",
       "away_last_40_SH%                0\n",
       "away_last40_pp_TOI_per_game     0\n",
       "away_last40_xGF_per_min_pp      0\n",
       "away_last40_GF_per_min_pp       0\n",
       "away_last40_pk_TOI_per_game     0\n",
       "away_last40_xGA_per_min_pk      0\n",
       "away_last40_GA_per_min_pk       0\n",
       "home_Rating.A.Pre               0\n",
       "away_Rating.A.Pre               0\n",
       "B2B_Status                      0\n",
       "Prediction                      0\n",
       "Away Win Probability            0\n",
       "Home Win Probability            0\n",
       "home_Implied_odds              15\n",
       "home_Close                     15\n",
       "away_Implied_odds              15\n",
       "away_Close                     15\n",
       "dtype: int64"
      ]
     },
     "execution_count": 332,
     "metadata": {},
     "output_type": "execute_result"
    }
   ],
   "source": [
    "#odds info only contains info for games up to 5/4. These are the 15 missing games below. \n",
    "df.isna().sum()"
   ]
  },
  {
   "cell_type": "code",
   "execution_count": 333,
   "metadata": {
    "ExecuteTime": {
     "end_time": "2021-05-10T23:33:57.064279Z",
     "start_time": "2021-05-10T23:33:57.057690Z"
    }
   },
   "outputs": [],
   "source": [
    "#drop missing games from df\n",
    "df = df.dropna()"
   ]
  },
  {
   "cell_type": "code",
   "execution_count": 334,
   "metadata": {
    "ExecuteTime": {
     "end_time": "2021-05-10T23:33:57.071673Z",
     "start_time": "2021-05-10T23:33:57.066669Z"
    }
   },
   "outputs": [],
   "source": [
    "conditions = [df['Home Win Probability'] > df['home_Implied_odds'],\n",
    "                df['Away Win Probability'] > df['away_Implied_odds']\n",
    "                 ]\n",
    "    \n",
    "\n",
    "choices = ['Home', \n",
    "          'Away']\n",
    "\n",
    "df['Bet'] = np.select(conditions, choices, default = 'No Bet')\n"
   ]
  },
  {
   "cell_type": "code",
   "execution_count": 337,
   "metadata": {
    "ExecuteTime": {
     "end_time": "2021-05-10T23:33:57.094629Z",
     "start_time": "2021-05-10T23:33:57.088077Z"
    },
    "scrolled": true
   },
   "outputs": [],
   "source": [
    "df['Favorites'] = np.where(df['home_Implied_odds'] >df['away_Implied_odds'], 'Home', 'Away' )\n",
    "conditions = [df['Bet'] == 'No Bet',\n",
    "              df['Bet'] == df['Favorites'],\n",
    "              df['Bet'] != df['Favorites']\n",
    "    \n",
    "    \n",
    "]\n",
    "choices = ['No Bet',\n",
    "           'Favorite',\n",
    "           'Underdog'\n",
    "    ]\n",
    "\n",
    "df['Bet_For'] = np.select(conditions, choices)"
   ]
  },
  {
   "cell_type": "code",
   "execution_count": 340,
   "metadata": {
    "ExecuteTime": {
     "end_time": "2021-05-10T23:33:57.157746Z",
     "start_time": "2021-05-10T23:33:57.147526Z"
    },
    "scrolled": true
   },
   "outputs": [],
   "source": [
    "#calculate profit for 100$ per game strat\n",
    "conditions = [((df['Bet'] == 'Home') & (df['Home_Team_Won'] == 1) & (df['home_Close'] <0)),\n",
    "               ((df['Bet'] == 'Home') & (df['Home_Team_Won'] == 1) & (df['home_Close']>0)),\n",
    "              ((df['Bet'] == 'Away') & (df['Home_Team_Won'] == 0) & (df['away_Close']<0)),\n",
    "                ((df['Bet'] == 'Away') & (df['Home_Team_Won'] == 0) & (df['away_Close']>0)),\n",
    "              df['Bet'] == 'No Bet'\n",
    "                 ]\n",
    "    \n",
    "\n",
    "choices = [-100 * (100/df['home_Close']), \n",
    "           df['home_Close'],\n",
    "          -100 * (100/df['away_Close']),\n",
    "          df['away_Close'],\n",
    "          0]\n",
    "\n",
    "df['Profit_Strat1'] = np.select(conditions, choices, default = -100)"
   ]
  },
  {
   "cell_type": "code",
   "execution_count": 341,
   "metadata": {
    "ExecuteTime": {
     "end_time": "2021-05-10T23:33:57.176270Z",
     "start_time": "2021-05-10T23:33:57.160082Z"
    }
   },
   "outputs": [],
   "source": [
    "#calculate profit for bet to win 100$ strat\n",
    "conditions = [((df['Bet'] == 'Home') & (df['Home_Team_Won'] == 1) & (df['home_Close'] <0)),\n",
    "               ((df['Bet'] == 'Home') & (df['Home_Team_Won'] == 1) & (df['home_Close']>0)),\n",
    "               ((df['Bet'] == 'Home') & (df['Home_Team_Won'] == 0) & (df['home_Close']>0)),\n",
    "              ((df['Bet'] == 'Home') & (df['Home_Team_Won'] == 0) & (df['home_Close']<0)),\n",
    "              ((df['Bet'] == 'Away') & (df['Home_Team_Won'] == 0) & (df['away_Close']<0)),\n",
    "                ((df['Bet'] == 'Away') & (df['Home_Team_Won'] == 0) & (df['away_Close']>0)),\n",
    "              ((df['Bet'] == 'Away') & (df['Home_Team_Won'] == 1) & (df['away_Close']>0)),\n",
    "              ((df['Bet'] == 'Away') & (df['Home_Team_Won'] == 1) & (df['away_Close']<0)),\n",
    "              df['Bet'] == 'No Bet'\n",
    "                 ]\n",
    "    \n",
    "\n",
    "choices = [100, \n",
    "           100,\n",
    "          (100/df['home_Close'])*-100,\n",
    "           df['home_Close'],\n",
    "           100,\n",
    "           100,\n",
    "             (100/df['away_Close'])*-100,\n",
    "          df['away_Close'],\n",
    "          0]\n",
    "\n",
    "df['Profit_Strat2'] = np.select(conditions, choices)"
   ]
  },
  {
   "cell_type": "code",
   "execution_count": 342,
   "metadata": {
    "ExecuteTime": {
     "end_time": "2021-05-10T23:33:57.190918Z",
     "start_time": "2021-05-10T23:33:57.181822Z"
    }
   },
   "outputs": [],
   "source": [
    "#cost of bet to win 100$ strat\n",
    "conditions = [((df['Bet'] == 'Home') & (df['home_Close']>0)),\n",
    "              ((df['Bet'] == 'Home') & (df['home_Close']<0)),\n",
    "              ((df['Bet'] == 'Away') &  (df['away_Close']>0)),\n",
    "              ((df['Bet'] == 'Away') &  (df['away_Close']<0)),\n",
    "              df['Bet'] == 'No Bet'\n",
    "                 ]\n",
    "    \n",
    "\n",
    "choices = [(100/df['home_Close'])*100,\n",
    "           df['home_Close']*-1,\n",
    "             (100/df['away_Close'])*100,\n",
    "          df['away_Close']*-1,\n",
    "          0]\n",
    "\n",
    "df['Cost_Strat2'] = np.select(conditions, choices)"
   ]
  },
  {
   "cell_type": "code",
   "execution_count": 370,
   "metadata": {
    "ExecuteTime": {
     "end_time": "2021-05-11T15:08:51.366793Z",
     "start_time": "2021-05-11T15:08:51.357824Z"
    }
   },
   "outputs": [],
   "source": [
    "#convert date to pandas datetime\n",
    "df['date'] = pd.to_datetime(df['date'])"
   ]
  },
  {
   "cell_type": "code",
   "execution_count": 352,
   "metadata": {
    "ExecuteTime": {
     "end_time": "2021-05-10T23:35:14.622933Z",
     "start_time": "2021-05-10T23:35:14.619040Z"
    }
   },
   "outputs": [],
   "source": [
    "#calculate cumulative profit for poth strategies\n",
    "df['Profit_Strat2_cumsum'] = df['Profit_Strat2'].cumsum()\n",
    "df['Profit_Strat1_cumsum'] = df['Profit_Strat1'].cumsum()"
   ]
  },
  {
   "cell_type": "code",
   "execution_count": 357,
   "metadata": {
    "ExecuteTime": {
     "end_time": "2021-05-10T23:42:16.372788Z",
     "start_time": "2021-05-10T23:42:16.369030Z"
    }
   },
   "outputs": [],
   "source": [
    "df['Won_Bet'] = np.where(df['Profit_Strat2'] > 0, 1, 0)"
   ]
  },
  {
   "cell_type": "code",
   "execution_count": 371,
   "metadata": {
    "ExecuteTime": {
     "end_time": "2021-05-11T15:18:36.549653Z",
     "start_time": "2021-05-11T15:18:36.502159Z"
    },
    "scrolled": false
   },
   "outputs": [
    {
     "data": {
      "text/html": [
       "<div>\n",
       "<style scoped>\n",
       "    .dataframe tbody tr th:only-of-type {\n",
       "        vertical-align: middle;\n",
       "    }\n",
       "\n",
       "    .dataframe tbody tr th {\n",
       "        vertical-align: top;\n",
       "    }\n",
       "\n",
       "    .dataframe thead th {\n",
       "        text-align: right;\n",
       "    }\n",
       "</style>\n",
       "<table border=\"1\" class=\"dataframe\">\n",
       "  <thead>\n",
       "    <tr style=\"text-align: right;\">\n",
       "      <th></th>\n",
       "      <th>Unnamed: 0</th>\n",
       "      <th>game_id</th>\n",
       "      <th>date</th>\n",
       "      <th>venue</th>\n",
       "      <th>home_team</th>\n",
       "      <th>away_team</th>\n",
       "      <th>start_time</th>\n",
       "      <th>home_score</th>\n",
       "      <th>away_score</th>\n",
       "      <th>status</th>\n",
       "      <th>Home_Team_Won</th>\n",
       "      <th>Home_Team_Key</th>\n",
       "      <th>Away_Team_Key</th>\n",
       "      <th>home_Game_Number</th>\n",
       "      <th>away_Game_Number</th>\n",
       "      <th>home_goalie</th>\n",
       "      <th>home_Goalie_FenwickSV%</th>\n",
       "      <th>home_Goalie_GSAx/60</th>\n",
       "      <th>home_Goalie_HDCSV%</th>\n",
       "      <th>away_goalie</th>\n",
       "      <th>away_Goalie_FenwickSV%</th>\n",
       "      <th>away_Goalie_GSAx/60</th>\n",
       "      <th>away_Goalie_HDCSV%</th>\n",
       "      <th>home_last_40_FF%_5v5</th>\n",
       "      <th>home_last_40_GF%_5v5</th>\n",
       "      <th>home_last_40_xGF%_5v5</th>\n",
       "      <th>home_last_40_SH%</th>\n",
       "      <th>home_last40_pp_TOI_per_game</th>\n",
       "      <th>home_last40_xGF_per_min_pp</th>\n",
       "      <th>home_last40_GF_per_min_pp</th>\n",
       "      <th>home_last40_pk_TOI_per_game</th>\n",
       "      <th>home_last40_xGA_per_min_pk</th>\n",
       "      <th>home_last40_GA_per_min_pk</th>\n",
       "      <th>away_last_40_FF%_5v5</th>\n",
       "      <th>away_last_40_GF%_5v5</th>\n",
       "      <th>away_last_40_xGF%_5v5</th>\n",
       "      <th>away_last_40_SH%</th>\n",
       "      <th>away_last40_pp_TOI_per_game</th>\n",
       "      <th>away_last40_xGF_per_min_pp</th>\n",
       "      <th>away_last40_GF_per_min_pp</th>\n",
       "      <th>away_last40_pk_TOI_per_game</th>\n",
       "      <th>away_last40_xGA_per_min_pk</th>\n",
       "      <th>away_last40_GA_per_min_pk</th>\n",
       "      <th>home_Rating.A.Pre</th>\n",
       "      <th>away_Rating.A.Pre</th>\n",
       "      <th>B2B_Status</th>\n",
       "      <th>Prediction</th>\n",
       "      <th>Away Win Probability</th>\n",
       "      <th>Home Win Probability</th>\n",
       "      <th>home_Implied_odds</th>\n",
       "      <th>home_Close</th>\n",
       "      <th>away_Implied_odds</th>\n",
       "      <th>away_Close</th>\n",
       "      <th>Bet</th>\n",
       "      <th>Favorites</th>\n",
       "      <th>Bet_For</th>\n",
       "      <th>Profit_Strat1</th>\n",
       "      <th>Profit_Strat2</th>\n",
       "      <th>Cost_Strat2</th>\n",
       "      <th>Profit_Strat2_cumsum</th>\n",
       "      <th>Profit_Strat1_cumsum</th>\n",
       "      <th>Won_Bet</th>\n",
       "    </tr>\n",
       "  </thead>\n",
       "  <tbody>\n",
       "    <tr>\n",
       "      <th>0</th>\n",
       "      <td>3626</td>\n",
       "      <td>2020020001</td>\n",
       "      <td>2021-01-13</td>\n",
       "      <td>Wells Fargo Center</td>\n",
       "      <td>PHI</td>\n",
       "      <td>PIT</td>\n",
       "      <td>2021-01-13 22:30:00</td>\n",
       "      <td>6</td>\n",
       "      <td>3</td>\n",
       "      <td>Final</td>\n",
       "      <td>1</td>\n",
       "      <td>PHI_2021-01-13</td>\n",
       "      <td>PIT_2021-01-13</td>\n",
       "      <td>1.0</td>\n",
       "      <td>1.0</td>\n",
       "      <td>Carter Hart</td>\n",
       "      <td>0.936798</td>\n",
       "      <td>-0.097290</td>\n",
       "      <td>0.869565</td>\n",
       "      <td>Tristan Jarry</td>\n",
       "      <td>0.937063</td>\n",
       "      <td>-0.291447</td>\n",
       "      <td>0.834711</td>\n",
       "      <td>51.037671</td>\n",
       "      <td>55.248131</td>\n",
       "      <td>50.833631</td>\n",
       "      <td>10.024139</td>\n",
       "      <td>5.216250</td>\n",
       "      <td>0.104625</td>\n",
       "      <td>0.134196</td>\n",
       "      <td>5.579583</td>\n",
       "      <td>0.088716</td>\n",
       "      <td>0.112016</td>\n",
       "      <td>49.490424</td>\n",
       "      <td>49.414366</td>\n",
       "      <td>49.580182</td>\n",
       "      <td>8.701463</td>\n",
       "      <td>5.068333</td>\n",
       "      <td>0.122230</td>\n",
       "      <td>0.143045</td>\n",
       "      <td>4.693750</td>\n",
       "      <td>0.094008</td>\n",
       "      <td>0.111851</td>\n",
       "      <td>1531.48</td>\n",
       "      <td>1514.01</td>\n",
       "      <td>Neither</td>\n",
       "      <td>1</td>\n",
       "      <td>0.438607</td>\n",
       "      <td>0.561393</td>\n",
       "      <td>0.512195</td>\n",
       "      <td>-105.0</td>\n",
       "      <td>0.534884</td>\n",
       "      <td>-115.0</td>\n",
       "      <td>Home</td>\n",
       "      <td>Away</td>\n",
       "      <td>Underdog</td>\n",
       "      <td>95.238095</td>\n",
       "      <td>100.0</td>\n",
       "      <td>105.0</td>\n",
       "      <td>100.0</td>\n",
       "      <td>95.238095</td>\n",
       "      <td>1</td>\n",
       "    </tr>\n",
       "    <tr>\n",
       "      <th>1</th>\n",
       "      <td>3627</td>\n",
       "      <td>2020020003</td>\n",
       "      <td>2021-01-13</td>\n",
       "      <td>Scotiabank Arena</td>\n",
       "      <td>TOR</td>\n",
       "      <td>MTL</td>\n",
       "      <td>2021-01-14 00:00:00</td>\n",
       "      <td>5</td>\n",
       "      <td>4</td>\n",
       "      <td>Final</td>\n",
       "      <td>1</td>\n",
       "      <td>TOR_2021-01-13</td>\n",
       "      <td>MTL_2021-01-13</td>\n",
       "      <td>1.0</td>\n",
       "      <td>1.0</td>\n",
       "      <td>Frederik Andersen</td>\n",
       "      <td>0.936070</td>\n",
       "      <td>-0.305563</td>\n",
       "      <td>0.866051</td>\n",
       "      <td>Carey Price</td>\n",
       "      <td>0.930668</td>\n",
       "      <td>-0.444146</td>\n",
       "      <td>0.862233</td>\n",
       "      <td>50.926333</td>\n",
       "      <td>51.613248</td>\n",
       "      <td>52.907871</td>\n",
       "      <td>9.385230</td>\n",
       "      <td>4.490833</td>\n",
       "      <td>0.102876</td>\n",
       "      <td>0.161440</td>\n",
       "      <td>4.251250</td>\n",
       "      <td>0.095972</td>\n",
       "      <td>0.117612</td>\n",
       "      <td>54.275967</td>\n",
       "      <td>49.447384</td>\n",
       "      <td>54.826724</td>\n",
       "      <td>6.807514</td>\n",
       "      <td>4.443333</td>\n",
       "      <td>0.093567</td>\n",
       "      <td>0.090023</td>\n",
       "      <td>5.106250</td>\n",
       "      <td>0.115594</td>\n",
       "      <td>0.112607</td>\n",
       "      <td>1516.52</td>\n",
       "      <td>1497.57</td>\n",
       "      <td>Neither</td>\n",
       "      <td>1</td>\n",
       "      <td>0.404786</td>\n",
       "      <td>0.595214</td>\n",
       "      <td>0.583333</td>\n",
       "      <td>-140.0</td>\n",
       "      <td>0.454545</td>\n",
       "      <td>120.0</td>\n",
       "      <td>Home</td>\n",
       "      <td>Home</td>\n",
       "      <td>Favorite</td>\n",
       "      <td>71.428571</td>\n",
       "      <td>100.0</td>\n",
       "      <td>140.0</td>\n",
       "      <td>200.0</td>\n",
       "      <td>166.666667</td>\n",
       "      <td>1</td>\n",
       "    </tr>\n",
       "    <tr>\n",
       "      <th>2</th>\n",
       "      <td>3628</td>\n",
       "      <td>2020020002</td>\n",
       "      <td>2021-01-13</td>\n",
       "      <td>Amalie Arena</td>\n",
       "      <td>T.B</td>\n",
       "      <td>CHI</td>\n",
       "      <td>2021-01-14 01:00:00</td>\n",
       "      <td>5</td>\n",
       "      <td>1</td>\n",
       "      <td>Final</td>\n",
       "      <td>1</td>\n",
       "      <td>T.B_2021-01-13</td>\n",
       "      <td>CHI_2021-01-13</td>\n",
       "      <td>1.0</td>\n",
       "      <td>1.0</td>\n",
       "      <td>Andrei Vasilevskiy</td>\n",
       "      <td>0.941531</td>\n",
       "      <td>-0.023160</td>\n",
       "      <td>0.876847</td>\n",
       "      <td>Malcolm Subban</td>\n",
       "      <td>0.923432</td>\n",
       "      <td>-0.589420</td>\n",
       "      <td>0.857809</td>\n",
       "      <td>53.085863</td>\n",
       "      <td>60.496256</td>\n",
       "      <td>55.396941</td>\n",
       "      <td>9.975409</td>\n",
       "      <td>5.086667</td>\n",
       "      <td>0.095347</td>\n",
       "      <td>0.098296</td>\n",
       "      <td>5.632500</td>\n",
       "      <td>0.101065</td>\n",
       "      <td>0.106525</td>\n",
       "      <td>49.003131</td>\n",
       "      <td>51.252598</td>\n",
       "      <td>47.514358</td>\n",
       "      <td>9.212376</td>\n",
       "      <td>5.646667</td>\n",
       "      <td>0.107010</td>\n",
       "      <td>0.084120</td>\n",
       "      <td>4.739583</td>\n",
       "      <td>0.103226</td>\n",
       "      <td>0.089670</td>\n",
       "      <td>1584.31</td>\n",
       "      <td>1492.13</td>\n",
       "      <td>Neither</td>\n",
       "      <td>1</td>\n",
       "      <td>0.320753</td>\n",
       "      <td>0.679246</td>\n",
       "      <td>0.714286</td>\n",
       "      <td>-250.0</td>\n",
       "      <td>0.322581</td>\n",
       "      <td>210.0</td>\n",
       "      <td>No Bet</td>\n",
       "      <td>Home</td>\n",
       "      <td>No Bet</td>\n",
       "      <td>0.000000</td>\n",
       "      <td>0.0</td>\n",
       "      <td>0.0</td>\n",
       "      <td>200.0</td>\n",
       "      <td>166.666667</td>\n",
       "      <td>0</td>\n",
       "    </tr>\n",
       "    <tr>\n",
       "      <th>3</th>\n",
       "      <td>3629</td>\n",
       "      <td>2020020004</td>\n",
       "      <td>2021-01-13</td>\n",
       "      <td>Rogers Place</td>\n",
       "      <td>EDM</td>\n",
       "      <td>VAN</td>\n",
       "      <td>2021-01-14 03:00:00</td>\n",
       "      <td>3</td>\n",
       "      <td>5</td>\n",
       "      <td>Final</td>\n",
       "      <td>0</td>\n",
       "      <td>EDM_2021-01-13</td>\n",
       "      <td>VAN_2021-01-13</td>\n",
       "      <td>1.0</td>\n",
       "      <td>1.0</td>\n",
       "      <td>Mikko Koskinen</td>\n",
       "      <td>0.938316</td>\n",
       "      <td>-0.009204</td>\n",
       "      <td>0.867299</td>\n",
       "      <td>Braden Holtby</td>\n",
       "      <td>0.927771</td>\n",
       "      <td>-0.408527</td>\n",
       "      <td>0.852194</td>\n",
       "      <td>48.540721</td>\n",
       "      <td>47.474864</td>\n",
       "      <td>48.384948</td>\n",
       "      <td>8.348491</td>\n",
       "      <td>4.868750</td>\n",
       "      <td>0.111322</td>\n",
       "      <td>0.154044</td>\n",
       "      <td>4.358333</td>\n",
       "      <td>0.114551</td>\n",
       "      <td>0.103250</td>\n",
       "      <td>47.274508</td>\n",
       "      <td>48.647099</td>\n",
       "      <td>46.039131</td>\n",
       "      <td>8.973817</td>\n",
       "      <td>5.262917</td>\n",
       "      <td>0.098805</td>\n",
       "      <td>0.128256</td>\n",
       "      <td>5.131250</td>\n",
       "      <td>0.110110</td>\n",
       "      <td>0.116931</td>\n",
       "      <td>1490.93</td>\n",
       "      <td>1510.30</td>\n",
       "      <td>Neither</td>\n",
       "      <td>1</td>\n",
       "      <td>0.418404</td>\n",
       "      <td>0.581596</td>\n",
       "      <td>0.600000</td>\n",
       "      <td>-150.0</td>\n",
       "      <td>0.434783</td>\n",
       "      <td>130.0</td>\n",
       "      <td>No Bet</td>\n",
       "      <td>Home</td>\n",
       "      <td>No Bet</td>\n",
       "      <td>0.000000</td>\n",
       "      <td>0.0</td>\n",
       "      <td>0.0</td>\n",
       "      <td>200.0</td>\n",
       "      <td>166.666667</td>\n",
       "      <td>0</td>\n",
       "    </tr>\n",
       "    <tr>\n",
       "      <th>4</th>\n",
       "      <td>3630</td>\n",
       "      <td>2020020005</td>\n",
       "      <td>2021-01-13</td>\n",
       "      <td>Ball Arena</td>\n",
       "      <td>COL</td>\n",
       "      <td>STL</td>\n",
       "      <td>2021-01-14 03:30:00</td>\n",
       "      <td>1</td>\n",
       "      <td>4</td>\n",
       "      <td>Final</td>\n",
       "      <td>0</td>\n",
       "      <td>COL_2021-01-13</td>\n",
       "      <td>STL_2021-01-13</td>\n",
       "      <td>1.0</td>\n",
       "      <td>1.0</td>\n",
       "      <td>Philipp Grubauer</td>\n",
       "      <td>0.938738</td>\n",
       "      <td>-0.054610</td>\n",
       "      <td>0.852300</td>\n",
       "      <td>Jordan Binnington</td>\n",
       "      <td>0.936047</td>\n",
       "      <td>-0.058439</td>\n",
       "      <td>0.891566</td>\n",
       "      <td>54.173584</td>\n",
       "      <td>55.777256</td>\n",
       "      <td>54.433969</td>\n",
       "      <td>8.037510</td>\n",
       "      <td>5.254167</td>\n",
       "      <td>0.107819</td>\n",
       "      <td>0.118953</td>\n",
       "      <td>4.904583</td>\n",
       "      <td>0.115045</td>\n",
       "      <td>0.091751</td>\n",
       "      <td>53.469034</td>\n",
       "      <td>58.414704</td>\n",
       "      <td>53.596844</td>\n",
       "      <td>8.848351</td>\n",
       "      <td>4.181250</td>\n",
       "      <td>0.128311</td>\n",
       "      <td>0.161435</td>\n",
       "      <td>4.751667</td>\n",
       "      <td>0.124851</td>\n",
       "      <td>0.142055</td>\n",
       "      <td>1549.43</td>\n",
       "      <td>1526.11</td>\n",
       "      <td>Neither</td>\n",
       "      <td>1</td>\n",
       "      <td>0.449294</td>\n",
       "      <td>0.550706</td>\n",
       "      <td>0.591837</td>\n",
       "      <td>-145.0</td>\n",
       "      <td>0.444444</td>\n",
       "      <td>125.0</td>\n",
       "      <td>Away</td>\n",
       "      <td>Home</td>\n",
       "      <td>Underdog</td>\n",
       "      <td>125.000000</td>\n",
       "      <td>100.0</td>\n",
       "      <td>80.0</td>\n",
       "      <td>300.0</td>\n",
       "      <td>291.666667</td>\n",
       "      <td>1</td>\n",
       "    </tr>\n",
       "  </tbody>\n",
       "</table>\n",
       "</div>"
      ],
      "text/plain": [
       "   Unnamed: 0     game_id       date               venue home_team away_team  \\\n",
       "0        3626  2020020001 2021-01-13  Wells Fargo Center       PHI       PIT   \n",
       "1        3627  2020020003 2021-01-13    Scotiabank Arena       TOR       MTL   \n",
       "2        3628  2020020002 2021-01-13        Amalie Arena       T.B       CHI   \n",
       "3        3629  2020020004 2021-01-13        Rogers Place       EDM       VAN   \n",
       "4        3630  2020020005 2021-01-13          Ball Arena       COL       STL   \n",
       "\n",
       "            start_time  home_score  away_score status  Home_Team_Won  \\\n",
       "0  2021-01-13 22:30:00           6           3  Final              1   \n",
       "1  2021-01-14 00:00:00           5           4  Final              1   \n",
       "2  2021-01-14 01:00:00           5           1  Final              1   \n",
       "3  2021-01-14 03:00:00           3           5  Final              0   \n",
       "4  2021-01-14 03:30:00           1           4  Final              0   \n",
       "\n",
       "    Home_Team_Key   Away_Team_Key  home_Game_Number  away_Game_Number  \\\n",
       "0  PHI_2021-01-13  PIT_2021-01-13               1.0               1.0   \n",
       "1  TOR_2021-01-13  MTL_2021-01-13               1.0               1.0   \n",
       "2  T.B_2021-01-13  CHI_2021-01-13               1.0               1.0   \n",
       "3  EDM_2021-01-13  VAN_2021-01-13               1.0               1.0   \n",
       "4  COL_2021-01-13  STL_2021-01-13               1.0               1.0   \n",
       "\n",
       "          home_goalie  home_Goalie_FenwickSV%  home_Goalie_GSAx/60  \\\n",
       "0         Carter Hart                0.936798            -0.097290   \n",
       "1   Frederik Andersen                0.936070            -0.305563   \n",
       "2  Andrei Vasilevskiy                0.941531            -0.023160   \n",
       "3      Mikko Koskinen                0.938316            -0.009204   \n",
       "4    Philipp Grubauer                0.938738            -0.054610   \n",
       "\n",
       "   home_Goalie_HDCSV%        away_goalie  away_Goalie_FenwickSV%  \\\n",
       "0            0.869565      Tristan Jarry                0.937063   \n",
       "1            0.866051        Carey Price                0.930668   \n",
       "2            0.876847     Malcolm Subban                0.923432   \n",
       "3            0.867299      Braden Holtby                0.927771   \n",
       "4            0.852300  Jordan Binnington                0.936047   \n",
       "\n",
       "   away_Goalie_GSAx/60  away_Goalie_HDCSV%  home_last_40_FF%_5v5  \\\n",
       "0            -0.291447            0.834711             51.037671   \n",
       "1            -0.444146            0.862233             50.926333   \n",
       "2            -0.589420            0.857809             53.085863   \n",
       "3            -0.408527            0.852194             48.540721   \n",
       "4            -0.058439            0.891566             54.173584   \n",
       "\n",
       "   home_last_40_GF%_5v5  home_last_40_xGF%_5v5  home_last_40_SH%  \\\n",
       "0             55.248131              50.833631         10.024139   \n",
       "1             51.613248              52.907871          9.385230   \n",
       "2             60.496256              55.396941          9.975409   \n",
       "3             47.474864              48.384948          8.348491   \n",
       "4             55.777256              54.433969          8.037510   \n",
       "\n",
       "   home_last40_pp_TOI_per_game  home_last40_xGF_per_min_pp  \\\n",
       "0                     5.216250                    0.104625   \n",
       "1                     4.490833                    0.102876   \n",
       "2                     5.086667                    0.095347   \n",
       "3                     4.868750                    0.111322   \n",
       "4                     5.254167                    0.107819   \n",
       "\n",
       "   home_last40_GF_per_min_pp  home_last40_pk_TOI_per_game  \\\n",
       "0                   0.134196                     5.579583   \n",
       "1                   0.161440                     4.251250   \n",
       "2                   0.098296                     5.632500   \n",
       "3                   0.154044                     4.358333   \n",
       "4                   0.118953                     4.904583   \n",
       "\n",
       "   home_last40_xGA_per_min_pk  home_last40_GA_per_min_pk  \\\n",
       "0                    0.088716                   0.112016   \n",
       "1                    0.095972                   0.117612   \n",
       "2                    0.101065                   0.106525   \n",
       "3                    0.114551                   0.103250   \n",
       "4                    0.115045                   0.091751   \n",
       "\n",
       "   away_last_40_FF%_5v5  away_last_40_GF%_5v5  away_last_40_xGF%_5v5  \\\n",
       "0             49.490424             49.414366              49.580182   \n",
       "1             54.275967             49.447384              54.826724   \n",
       "2             49.003131             51.252598              47.514358   \n",
       "3             47.274508             48.647099              46.039131   \n",
       "4             53.469034             58.414704              53.596844   \n",
       "\n",
       "   away_last_40_SH%  away_last40_pp_TOI_per_game  away_last40_xGF_per_min_pp  \\\n",
       "0          8.701463                     5.068333                    0.122230   \n",
       "1          6.807514                     4.443333                    0.093567   \n",
       "2          9.212376                     5.646667                    0.107010   \n",
       "3          8.973817                     5.262917                    0.098805   \n",
       "4          8.848351                     4.181250                    0.128311   \n",
       "\n",
       "   away_last40_GF_per_min_pp  away_last40_pk_TOI_per_game  \\\n",
       "0                   0.143045                     4.693750   \n",
       "1                   0.090023                     5.106250   \n",
       "2                   0.084120                     4.739583   \n",
       "3                   0.128256                     5.131250   \n",
       "4                   0.161435                     4.751667   \n",
       "\n",
       "   away_last40_xGA_per_min_pk  away_last40_GA_per_min_pk  home_Rating.A.Pre  \\\n",
       "0                    0.094008                   0.111851            1531.48   \n",
       "1                    0.115594                   0.112607            1516.52   \n",
       "2                    0.103226                   0.089670            1584.31   \n",
       "3                    0.110110                   0.116931            1490.93   \n",
       "4                    0.124851                   0.142055            1549.43   \n",
       "\n",
       "   away_Rating.A.Pre B2B_Status  Prediction  Away Win Probability  \\\n",
       "0            1514.01    Neither           1              0.438607   \n",
       "1            1497.57    Neither           1              0.404786   \n",
       "2            1492.13    Neither           1              0.320753   \n",
       "3            1510.30    Neither           1              0.418404   \n",
       "4            1526.11    Neither           1              0.449294   \n",
       "\n",
       "   Home Win Probability  home_Implied_odds  home_Close  away_Implied_odds  \\\n",
       "0              0.561393           0.512195      -105.0           0.534884   \n",
       "1              0.595214           0.583333      -140.0           0.454545   \n",
       "2              0.679246           0.714286      -250.0           0.322581   \n",
       "3              0.581596           0.600000      -150.0           0.434783   \n",
       "4              0.550706           0.591837      -145.0           0.444444   \n",
       "\n",
       "   away_Close     Bet Favorites   Bet_For  Profit_Strat1  Profit_Strat2  \\\n",
       "0      -115.0    Home      Away  Underdog      95.238095          100.0   \n",
       "1       120.0    Home      Home  Favorite      71.428571          100.0   \n",
       "2       210.0  No Bet      Home    No Bet       0.000000            0.0   \n",
       "3       130.0  No Bet      Home    No Bet       0.000000            0.0   \n",
       "4       125.0    Away      Home  Underdog     125.000000          100.0   \n",
       "\n",
       "   Cost_Strat2  Profit_Strat2_cumsum  Profit_Strat1_cumsum  Won_Bet  \n",
       "0        105.0                 100.0             95.238095        1  \n",
       "1        140.0                 200.0            166.666667        1  \n",
       "2          0.0                 200.0            166.666667        0  \n",
       "3          0.0                 200.0            166.666667        0  \n",
       "4         80.0                 300.0            291.666667        1  "
      ]
     },
     "execution_count": 371,
     "metadata": {},
     "output_type": "execute_result"
    }
   ],
   "source": [
    "df.head()"
   ]
  },
  {
   "cell_type": "markdown",
   "metadata": {},
   "source": [
    "---"
   ]
  },
  {
   "cell_type": "markdown",
   "metadata": {},
   "source": [
    "# Evaluation\n",
    "Let's check the log loss from the implied odds. My model's log loss on the 2021 season was 0.655967. So the book implied odds are still performing slightly better with a log loss of 0.6529"
   ]
  },
  {
   "cell_type": "code",
   "execution_count": 368,
   "metadata": {
    "ExecuteTime": {
     "end_time": "2021-05-11T15:00:59.626577Z",
     "start_time": "2021-05-11T15:00:59.541305Z"
    }
   },
   "outputs": [
    {
     "data": {
      "text/plain": [
       "0.6529358923310422"
      ]
     },
     "execution_count": 368,
     "metadata": {},
     "output_type": "execute_result"
    }
   ],
   "source": [
    "from sklearn.metrics import log_loss, accuracy_score\n",
    "\n",
    "io_list = []\n",
    "\n",
    "for index, row in df.iterrows():\n",
    "    io_list.append([row['away_Implied_odds'], row['home_Implied_odds']])\n",
    "    \n",
    "\n",
    "log_loss(copy['Home_Team_Won'], io_list)"
   ]
  },
  {
   "cell_type": "markdown",
   "metadata": {},
   "source": [
    "How many bets would be for home vs away vs no bet? My model is definitley favoring the home team. From the EDA notebook, The home team had won 56.0% in the 17-18 season, 53.7% in 18-19, 53.1% in 19-20 and only 52.7% in 20-21 season. THe 20-21 season having no fans may be affecting this outcome for the home team and may have hurt the model slightly for the 20-21 season."
   ]
  },
  {
   "cell_type": "code",
   "execution_count": 335,
   "metadata": {
    "ExecuteTime": {
     "end_time": "2021-05-10T23:33:57.079174Z",
     "start_time": "2021-05-10T23:33:57.073952Z"
    },
    "scrolled": false
   },
   "outputs": [
    {
     "data": {
      "text/plain": [
       "Home      455\n",
       "Away      220\n",
       "No Bet    130\n",
       "Name: Bet, dtype: int64"
      ]
     },
     "execution_count": 335,
     "metadata": {},
     "output_type": "execute_result"
    }
   ],
   "source": [
    "df['Bet'].value_counts()"
   ]
  },
  {
   "cell_type": "code",
   "execution_count": 336,
   "metadata": {
    "ExecuteTime": {
     "end_time": "2021-05-10T23:33:57.086369Z",
     "start_time": "2021-05-10T23:33:57.081046Z"
    },
    "scrolled": true
   },
   "outputs": [
    {
     "data": {
      "text/plain": [
       "Home      0.565217\n",
       "Away      0.273292\n",
       "No Bet    0.161491\n",
       "Name: Bet, dtype: float64"
      ]
     },
     "execution_count": 336,
     "metadata": {},
     "output_type": "execute_result"
    }
   ],
   "source": [
    "df['Bet'].value_counts(normalize = True)"
   ]
  },
  {
   "cell_type": "markdown",
   "metadata": {},
   "source": [
    "How many bets were for the favorite vs the underdrog? Interestingly the model liked underdogs more often. "
   ]
  },
  {
   "cell_type": "code",
   "execution_count": 369,
   "metadata": {
    "ExecuteTime": {
     "end_time": "2021-05-11T15:08:05.610544Z",
     "start_time": "2021-05-11T15:08:05.602195Z"
    },
    "scrolled": false
   },
   "outputs": [
    {
     "data": {
      "text/plain": [
       "Underdog    0.498137\n",
       "Favorite    0.340373\n",
       "No Bet      0.161491\n",
       "Name: Bet_For, dtype: float64"
      ]
     },
     "execution_count": 369,
     "metadata": {},
     "output_type": "execute_result"
    }
   ],
   "source": [
    "df['Bet_For'].value_counts(normalize = 'True')"
   ]
  },
  {
   "cell_type": "markdown",
   "metadata": {},
   "source": [
    "The strategy of betting to win 100$ resulted in a per bet ROI of 1.62%"
   ]
  },
  {
   "cell_type": "code",
   "execution_count": 343,
   "metadata": {
    "ExecuteTime": {
     "end_time": "2021-05-10T23:33:57.199185Z",
     "start_time": "2021-05-10T23:33:57.194428Z"
    }
   },
   "outputs": [
    {
     "data": {
      "text/plain": [
       "0.016214765368195147"
      ]
     },
     "execution_count": 343,
     "metadata": {},
     "output_type": "execute_result"
    }
   ],
   "source": [
    "#ROI per bet\n",
    "df['Profit_Strat2'].sum() / df['Cost_Strat2'].sum()"
   ]
  },
  {
   "cell_type": "markdown",
   "metadata": {},
   "source": [
    "Total profit for this strategy would have been $1,176.51"
   ]
  },
  {
   "cell_type": "code",
   "execution_count": 359,
   "metadata": {
    "ExecuteTime": {
     "end_time": "2021-05-10T23:45:17.492950Z",
     "start_time": "2021-05-10T23:45:17.487285Z"
    }
   },
   "outputs": [
    {
     "data": {
      "text/plain": [
       "1176.5146909843343"
      ]
     },
     "execution_count": 359,
     "metadata": {},
     "output_type": "execute_result"
    }
   ],
   "source": [
    "#total profit\n",
    "df['Profit_Strat2'].sum()"
   ]
  },
  {
   "cell_type": "markdown",
   "metadata": {},
   "source": [
    "The strategy was profitable initially and never dipped down into the red. You would have only needed an initial bankroll of $325 to implement this."
   ]
  },
  {
   "cell_type": "code",
   "execution_count": 361,
   "metadata": {
    "ExecuteTime": {
     "end_time": "2021-05-10T23:46:18.766535Z",
     "start_time": "2021-05-10T23:46:18.759723Z"
    }
   },
   "outputs": [
    {
     "data": {
      "text/plain": [
       "325.0"
      ]
     },
     "execution_count": 361,
     "metadata": {},
     "output_type": "execute_result"
    }
   ],
   "source": [
    "#initial bankroll needed \n",
    "df[df['date'] == '2021-01-13']['Cost_Strat2'].sum()"
   ]
  },
  {
   "cell_type": "markdown",
   "metadata": {},
   "source": [
    "I would have won only 49% of bets, but since the marjority of bets were for the underdog, the lower costs benefited profitability. "
   ]
  },
  {
   "cell_type": "code",
   "execution_count": 358,
   "metadata": {
    "ExecuteTime": {
     "end_time": "2021-05-10T23:43:56.352476Z",
     "start_time": "2021-05-10T23:43:56.341709Z"
    }
   },
   "outputs": [
    {
     "data": {
      "text/plain": [
       "0    0.511111\n",
       "1    0.488889\n",
       "Name: Won_Bet, dtype: float64"
      ]
     },
     "execution_count": 358,
     "metadata": {},
     "output_type": "execute_result"
    }
   ],
   "source": [
    "df[df['Bet'] != 'No Bet']['Won_Bet'].value_counts(normalize = True)"
   ]
  },
  {
   "cell_type": "markdown",
   "metadata": {},
   "source": [
    "Strategy 1, bet 100$ every bettable game was ultimately not profitable."
   ]
  },
  {
   "cell_type": "code",
   "execution_count": 355,
   "metadata": {
    "ExecuteTime": {
     "end_time": "2021-05-10T23:35:58.284462Z",
     "start_time": "2021-05-10T23:35:56.191787Z"
    },
    "scrolled": false
   },
   "outputs": [
    {
     "data": {
      "image/png": "[encoded data removed]",
      "text/plain": [
       "<Figure size 1152x864 with 1 Axes>"
      ]
     },
     "metadata": {},
     "output_type": "display_data"
    }
   ],
   "source": [
    "fig, ax = plt.subplots(figsize = (16,12))\n",
    "\n",
    "ax = sns.lineplot(x = df['date'], y = df['Profit_Strat1_cumsum'], color = 'green')\n",
    "ax.set_title('Cumulative Profit', fontsize = 18)\n",
    "ax.set_ylabel('Cumulative Profit', fontsize =12, )\n",
    "ax.set_xlabel('Date', fontsize =12)\n",
    "plt.xticks(rotation='vertical', fontsize = 12)\n",
    "# ax.axhline(325, linestyle = 'dashed', label = 'Initial Bankroll: $325', color = 'black')\n",
    "ax.set_ylim(-2000,4000)\n",
    "\n",
    "\n",
    "\n",
    "plt.show()"
   ]
  },
  {
   "cell_type": "markdown",
   "metadata": {},
   "source": [
    "Strategy 2, bet to win 100$ on every bettable game, was profitbale"
   ]
  },
  {
   "cell_type": "code",
   "execution_count": 348,
   "metadata": {
    "ExecuteTime": {
     "end_time": "2021-05-10T23:33:59.339378Z",
     "start_time": "2021-05-10T23:33:57.237234Z"
    },
    "scrolled": false
   },
   "outputs": [
    {
     "data": {
      "image/png": "[encoded data removed]",
      "text/plain": [
       "<Figure size 1152x864 with 1 Axes>"
      ]
     },
     "metadata": {},
     "output_type": "display_data"
    }
   ],
   "source": [
    "fig, ax = plt.subplots(figsize = (16,12))\n",
    "\n",
    "ax = sns.lineplot(x = df['date'], y = df['Profit_Strat2_cumsum'], color = 'green')\n",
    "ax.set_title('Cumulative Profit', fontsize = 18)\n",
    "ax.set_ylabel('Cumulative Profit', fontsize =12, )\n",
    "ax.set_xlabel('Date', fontsize =12)\n",
    "plt.xticks(rotation='vertical', fontsize = 12)\n",
    "# ax.axhline(325, linestyle = 'dashed', label = 'Initial Bankroll: $325', color = 'black')\n",
    "ax.set_ylim(0,4000)\n",
    "\n",
    "\n",
    "\n",
    "plt.show()"
   ]
  },
  {
   "cell_type": "code",
   "execution_count": 347,
   "metadata": {
    "ExecuteTime": {
     "end_time": "2021-05-10T23:33:57.234810Z",
     "start_time": "2021-05-10T23:33:57.226092Z"
    }
   },
   "outputs": [],
   "source": [
    "strat2 = pd.DataFrame(df.groupby('date').agg({'Profit_Strat2': 'sum'})).reset_index()\n",
    "\n",
    "strat2['Cumulative Profit'] = strat2['Profit_Strat2'].cumsum()\n",
    "\n",
    "strat2['date'] = pd.to_datetime(strat2['date'])"
   ]
  },
  {
   "cell_type": "code",
   "execution_count": 349,
   "metadata": {
    "ExecuteTime": {
     "end_time": "2021-05-10T23:33:59.348391Z",
     "start_time": "2021-05-10T23:33:59.341127Z"
    }
   },
   "outputs": [
    {
     "data": {
      "text/html": [
       "<div>\n",
       "<style scoped>\n",
       "    .dataframe tbody tr th:only-of-type {\n",
       "        vertical-align: middle;\n",
       "    }\n",
       "\n",
       "    .dataframe tbody tr th {\n",
       "        vertical-align: top;\n",
       "    }\n",
       "\n",
       "    .dataframe thead th {\n",
       "        text-align: right;\n",
       "    }\n",
       "</style>\n",
       "<table border=\"1\" class=\"dataframe\">\n",
       "  <thead>\n",
       "    <tr style=\"text-align: right;\">\n",
       "      <th></th>\n",
       "      <th>date</th>\n",
       "      <th>Profit_Strat2</th>\n",
       "      <th>Cumulative Profit</th>\n",
       "    </tr>\n",
       "  </thead>\n",
       "  <tbody>\n",
       "    <tr>\n",
       "      <th>0</th>\n",
       "      <td>2021-01-13</td>\n",
       "      <td>300.000000</td>\n",
       "      <td>300.000000</td>\n",
       "    </tr>\n",
       "    <tr>\n",
       "      <th>1</th>\n",
       "      <td>2021-01-14</td>\n",
       "      <td>20.500000</td>\n",
       "      <td>320.500000</td>\n",
       "    </tr>\n",
       "    <tr>\n",
       "      <th>2</th>\n",
       "      <td>2021-01-15</td>\n",
       "      <td>175.357143</td>\n",
       "      <td>495.857143</td>\n",
       "    </tr>\n",
       "    <tr>\n",
       "      <th>3</th>\n",
       "      <td>2021-01-16</td>\n",
       "      <td>223.664122</td>\n",
       "      <td>719.521265</td>\n",
       "    </tr>\n",
       "    <tr>\n",
       "      <th>4</th>\n",
       "      <td>2021-01-17</td>\n",
       "      <td>-75.757576</td>\n",
       "      <td>643.763689</td>\n",
       "    </tr>\n",
       "  </tbody>\n",
       "</table>\n",
       "</div>"
      ],
      "text/plain": [
       "        date  Profit_Strat2  Cumulative Profit\n",
       "0 2021-01-13     300.000000         300.000000\n",
       "1 2021-01-14      20.500000         320.500000\n",
       "2 2021-01-15     175.357143         495.857143\n",
       "3 2021-01-16     223.664122         719.521265\n",
       "4 2021-01-17     -75.757576         643.763689"
      ]
     },
     "execution_count": 349,
     "metadata": {},
     "output_type": "execute_result"
    }
   ],
   "source": [
    "strat2.head()"
   ]
  },
  {
   "cell_type": "code",
   "execution_count": 351,
   "metadata": {
    "ExecuteTime": {
     "end_time": "2021-05-10T23:33:59.979298Z",
     "start_time": "2021-05-10T23:33:59.676662Z"
    },
    "scrolled": false
   },
   "outputs": [
    {
     "data": {
      "image/png": "[encoded data removed]",
      "text/plain": [
       "<Figure size 1152x864 with 1 Axes>"
      ]
     },
     "metadata": {},
     "output_type": "display_data"
    }
   ],
   "source": [
    "fig, ax = plt.subplots(figsize = (16,12))\n",
    "\n",
    "ax = sns.lineplot(x = strat2['date'], y = strat2['Profit_Strat2'], palette = 'Blues')\n",
    "ax.set_title('Daily Profit', fontsize = 18)\n",
    "ax.set_ylabel('Daily Profit', fontsize =12, )\n",
    "ax.set_xlabel('Date', fontsize =12)\n",
    "plt.xticks(rotation='vertical', fontsize = 12)\n",
    "ax.axhline(0, color = 'black', linestyle = 'dashed')\n",
    "ax.set_ylim(-900,900)\n",
    "plt.show()"
   ]
  }
 ],
 "metadata": {
  "kernelspec": {
   "display_name": "Python 3",
   "language": "python",
   "name": "python3"
  },
  "language_info": {
   "codemirror_mode": {
    "name": "ipython",
    "version": 3
   },
   "file_extension": ".py",
   "mimetype": "text/x-python",
   "name": "python",
   "nbconvert_exporter": "python",
   "pygments_lexer": "ipython3",
   "version": "3.8.3"
  },
  "toc": {
   "base_numbering": 1,
   "nav_menu": {},
   "number_sections": true,
   "sideBar": true,
   "skip_h1_title": false,
   "title_cell": "Table of Contents",
   "title_sidebar": "Contents",
   "toc_cell": false,
   "toc_position": {},
   "toc_section_display": true,
   "toc_window_display": true
  },
  "varInspector": {
   "cols": {
    "lenName": 16,
    "lenType": 16,
    "lenVar": 40
   },
   "kernels_config": {
    "python": {
     "delete_cmd_postfix": "",
     "delete_cmd_prefix": "del ",
     "library": "var_list.py",
     "varRefreshCmd": "print(var_dic_list())"
    },
    "r": {
     "delete_cmd_postfix": ") ",
     "delete_cmd_prefix": "rm(",
     "library": "var_list.r",
     "varRefreshCmd": "cat(var_dic_list()) "
    }
   },
   "types_to_exclude": [
    "module",
    "function",
    "builtin_function_or_method",
    "instance",
    "_Feature"
   ],
   "window_display": false
  }
 },
 "nbformat": 4,
 "nbformat_minor": 4
}
