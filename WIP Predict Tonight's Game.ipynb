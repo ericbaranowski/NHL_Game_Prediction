{
 "cells": [
  {
   "cell_type": "code",
   "execution_count": 1,
   "metadata": {
    "ExecuteTime": {
     "end_time": "2021-06-18T20:33:40.083444Z",
     "start_time": "2021-06-18T20:33:37.982521Z"
    }
   },
   "outputs": [],
   "source": [
    "import requests\n",
    "from bs4 import BeautifulSoup\n",
    "import pandas as pd\n",
    "import matplotlib.pyplot as plt\n",
    "import seaborn as sns\n",
    "from scipy import stats\n",
    "import numpy as np\n",
    "import statsmodels.api as sm\n",
    "import hockey_scraper\n",
    "import pickle\n",
    "import time\n",
    "import random\n",
    "import datetime\n",
    "yesterday = datetime.date.today()- datetime.timedelta(days=1)\n",
    "pd.set_option('display.max_columns', None)"
   ]
  },
  {
   "cell_type": "code",
   "execution_count": null,
   "metadata": {},
   "outputs": [],
   "source": [
    "def master_function():\n",
    "    # bring in goalie game logs \n",
    "    infile = open(\"data/goalie_game_log_df.pickle\",'rb')\n",
    "    goalie_game_log = pickle.load(infile)\n",
    "    infile.close()\n",
    "    \n",
    "    #get goalie stats from prior days games\n",
    "    get_goalie_data(get_goalie_ids())\n",
    "    "
   ]
  },
  {
   "cell_type": "code",
   "execution_count": 50,
   "metadata": {
    "ExecuteTime": {
     "end_time": "2021-06-17T21:41:31.117120Z",
     "start_time": "2021-06-17T21:41:31.114848Z"
    }
   },
   "outputs": [],
   "source": [
    "#game boxscore url\n",
    "url = 'https://statsapi.web.nhl.com/api/v1/game/{}/boxscore'.format(game_id)"
   ]
  },
  {
   "cell_type": "code",
   "execution_count": null,
   "metadata": {},
   "outputs": [],
   "source": [
    "#roster url for future uses \n",
    "'https://statsapi.web.nhl.com/api/v1/teams?expand=team.roster&season=20142015'"
   ]
  },
  {
   "cell_type": "code",
   "execution_count": 2,
   "metadata": {
    "ExecuteTime": {
     "end_time": "2021-06-18T20:33:43.673877Z",
     "start_time": "2021-06-18T20:33:43.669543Z"
    }
   },
   "outputs": [],
   "source": [
    "#schedule url, date format: 2018-01-09\n",
    "\n",
    "def get_yesterdays_game_ids():\n",
    "    yesterday = datetime.date.today()- datetime.timedelta(days=1)\n",
    "    url = 'https://statsapi.web.nhl.com/api/v1/schedule?date={}'.format(yesterday.strftime('%Y-%m-%d'))\n",
    "    r = requests.get(url)\n",
    "    y_sched = r.json()\n",
    "\n",
    "    game_id = []\n",
    "    for game in y_sched['dates'][0]['games']:\n",
    "        game_id.append(game['gamePk'])\n",
    "    \n",
    "    return game_id"
   ]
  },
  {
   "cell_type": "code",
   "execution_count": 3,
   "metadata": {
    "ExecuteTime": {
     "end_time": "2021-06-18T20:33:44.675119Z",
     "start_time": "2021-06-18T20:33:44.230875Z"
    }
   },
   "outputs": [
    {
     "data": {
      "text/plain": [
       "[2020030323]"
      ]
     },
     "execution_count": 3,
     "metadata": {},
     "output_type": "execute_result"
    }
   ],
   "source": [
    "get_yesterdays_game_ids()"
   ]
  },
  {
   "cell_type": "code",
   "execution_count": 73,
   "metadata": {
    "ExecuteTime": {
     "end_time": "2021-06-18T21:10:25.762488Z",
     "start_time": "2021-06-18T21:10:25.755619Z"
    },
    "scrolled": true
   },
   "outputs": [],
   "source": [
    "#get goalie ids from yesterdays games\n",
    "def get_goalie_ids():\n",
    "    goalie_id = {}\n",
    "    for game_id in get_yesterdays_game_ids():\n",
    "        url = 'https://statsapi.web.nhl.com/api/v1/game/{}/boxscore'.format(game_id)\n",
    "        r = requests.get(url)\n",
    "        box_score = r.json()\n",
    "        for e in ['home', 'away']:\n",
    "            temp_id = []\n",
    "            temp_id.extend(box_score['teams'][e]['goalies'])\n",
    "            for pid in temp_id:\n",
    "                name = box_score['teams'][e]['players']['ID'+str(pid)]['person']['fullName']\n",
    "                goalie_id[name] = pid\n",
    "    return goalie_id\n",
    "    \n",
    "\n",
    "        \n",
    "    \n",
    "    "
   ]
  },
  {
   "cell_type": "code",
   "execution_count": 74,
   "metadata": {
    "ExecuteTime": {
     "end_time": "2021-06-18T21:10:40.927955Z",
     "start_time": "2021-06-18T21:10:40.397194Z"
    }
   },
   "outputs": [
    {
     "data": {
      "text/plain": [
       "{'Semyon Varlamov': 8473575, 'Andrei Vasilevskiy': 8476883}"
      ]
     },
     "execution_count": 74,
     "metadata": {},
     "output_type": "execute_result"
    }
   ],
   "source": [
    "get_goalie_ids()"
   ]
  },
  {
   "cell_type": "code",
   "execution_count": 99,
   "metadata": {
    "ExecuteTime": {
     "end_time": "2021-06-22T19:15:05.292371Z",
     "start_time": "2021-06-22T19:15:05.276725Z"
    }
   },
   "outputs": [],
   "source": [
    "def get_goalie_data(goalie_ids, start_year =20212022, end_year = 20212022):\n",
    "    counter = 0\n",
    "    for name, gid in goalie_ids.items():\n",
    "\n",
    "        sequence = [x/10 for x in range(60, 120)]\n",
    "        time.sleep(random.choice(sequence))\n",
    "        url = 'https://www.naturalstattrick.com/playerreport.php?fromseason={}&thruseason={}&playerid={}&sit=all&stype=2&stdoi=oi&rate=n&v=g'.format(start_year, end_year, gid)\n",
    "        #due to number of http requests, NST may ban your IP before the loop finishes. I needed to use a VPN to get around this. If IP gets banned, this function will still return the current DF and you can call the function again and pass in an updated goalie dictionary to get the rest\n",
    "        try:\n",
    "            individual_df = pd.read_html(url)[0]\n",
    "            individual_df['Name'] = name\n",
    "            individual_df['ID'] = gid\n",
    "\n",
    "        except:\n",
    "            print(f'Ended before {name}')\n",
    "            return all_goalies\n",
    "\n",
    "        if counter == 0:\n",
    "            all_goalies = individual_df\n",
    "\n",
    "        elif counter != 0:\n",
    "            all_goalies = pd.concat([all_goalies, individual_df])\n",
    "\n",
    "\n",
    "\n",
    "        counter +=1\n",
    "    \n",
    "    return all_goalies"
   ]
  },
  {
   "cell_type": "code",
   "execution_count": 76,
   "metadata": {
    "ExecuteTime": {
     "end_time": "2021-06-22T17:33:34.963420Z",
     "start_time": "2021-06-22T17:33:34.787176Z"
    }
   },
   "outputs": [],
   "source": [
    "def goalie_features(df, rolling_games = 40):\n",
    "    rolling_games = rolling_games\n",
    "    min_games = 10\n",
    "    df['Date'] = df['Game'].apply(lambda x: pd.to_datetime(x[0:10]))\n",
    "    df['Team_Key'] = df['Team'].astype(str)+'_'+df['Date'].astype(str)\n",
    "    \n",
    "    df['Rolling_TOI'] = df.groupby('ID')['TOI'].transform(lambda x: x.rolling(rolling_games, min_games).sum().shift())\n",
    "    df['Rolling_FA'] = df.groupby('ID')['FA'].transform(lambda x: x.rolling(rolling_games, min_games).sum().shift())\n",
    "    df['Rolling_SA'] = df.groupby('ID')['SA'].transform(lambda x: x.rolling(rolling_games, min_games).sum().shift())\n",
    "    df['Rolling_GA'] = df.groupby('ID')['GA'].transform(lambda x: x.rolling(rolling_games, min_games).sum().shift())\n",
    "    df['Rolling_xGA'] = df.groupby('ID')['xGA'].transform(lambda x: x.rolling(rolling_games, min_games).sum().shift())\n",
    "    df['Rolling_HDCA'] = df.groupby('ID')['HDCA'].transform(lambda x: x.rolling(rolling_games, min_games).sum().shift())\n",
    "    df['Rolling_HDGA'] = df.groupby('ID')['HDGA'].transform(lambda x: x.rolling(rolling_games, min_games).sum().shift())\n",
    "    \n",
    "    df['Goalie_FenwickSV%'] =  (df['Rolling_FA'] - df['Rolling_GA']) /  df['Rolling_FA']\n",
    "    df['Goalie_GSAx'] = df['Rolling_xGA'] - df['Rolling_GA']\n",
    "    df['Goalie_GSAx/60'] =  df['Goalie_GSAx']*60 /  df['Rolling_TOI']\n",
    "    df['Goalie_HDCSV%'] = (df['Rolling_HDCA'] - df['Rolling_HDGA'] ) / df['Rolling_HDCA'] \n",
    "    return df"
   ]
  },
  {
   "cell_type": "code",
   "execution_count": 79,
   "metadata": {
    "ExecuteTime": {
     "end_time": "2021-06-22T18:00:06.637302Z",
     "start_time": "2021-06-22T18:00:06.577987Z"
    }
   },
   "outputs": [],
   "source": [
    "infile = open(\"data/goalie_game_log_df.pickle\",'rb')\n",
    "goalie_game_log = pickle.load(infile)\n",
    "infile.close()"
   ]
  },
  {
   "cell_type": "code",
   "execution_count": null,
   "metadata": {},
   "outputs": [],
   "source": [
    "def update_goalie_logs():\n",
    "    # bring in goalie game logs \n",
    "    infile = open(\"data/goalie_game_log_df.pickle\",'rb')\n",
    "    goalie_game_log = pickle.load(infile)\n",
    "    infile.close()\n",
    "    \n",
    "    #get goalie stats for goalies that played yesterday\n",
    "    yesterdays_goalies_df = get_goalie_data(get_goalie_ids())\n",
    "    yesterdays_goalies_df['Date'] = yesterdays_goalies_df['Game'].apply(lambda x: pd.to_datetime(x[0:10]))\n",
    "    \n",
    "    #concact yesterdays goalies stats for just yesterday's games \n",
    "    goalie_game_log = pd.concat([goalie_game_log, yesterdays_goalies_df[yesterdays_goalies_df['Date'] == yesterday]])\n",
    "    #recalculate stats for features\n",
    "    goalie_game_log = goalie_features(goalie_game_log)\n",
    "    \n",
    "    return goalie_game_log"
   ]
  },
  {
   "cell_type": "code",
   "execution_count": null,
   "metadata": {},
   "outputs": [],
   "source": []
  }
 ],
 "metadata": {
  "kernelspec": {
   "display_name": "Python 3",
   "language": "python",
   "name": "python3"
  },
  "language_info": {
   "codemirror_mode": {
    "name": "ipython",
    "version": 3
   },
   "file_extension": ".py",
   "mimetype": "text/x-python",
   "name": "python",
   "nbconvert_exporter": "python",
   "pygments_lexer": "ipython3",
   "version": "3.8.3"
  },
  "toc": {
   "base_numbering": 1,
   "nav_menu": {},
   "number_sections": true,
   "sideBar": true,
   "skip_h1_title": false,
   "title_cell": "Table of Contents",
   "title_sidebar": "Contents",
   "toc_cell": false,
   "toc_position": {},
   "toc_section_display": true,
   "toc_window_display": false
  },
  "varInspector": {
   "cols": {
    "lenName": 16,
    "lenType": 16,
    "lenVar": 40
   },
   "kernels_config": {
    "python": {
     "delete_cmd_postfix": "",
     "delete_cmd_prefix": "del ",
     "library": "var_list.py",
     "varRefreshCmd": "print(var_dic_list())"
    },
    "r": {
     "delete_cmd_postfix": ") ",
     "delete_cmd_prefix": "rm(",
     "library": "var_list.r",
     "varRefreshCmd": "cat(var_dic_list()) "
    }
   },
   "types_to_exclude": [
    "module",
    "function",
    "builtin_function_or_method",
    "instance",
    "_Feature"
   ],
   "window_display": false
  }
 },
 "nbformat": 4,
 "nbformat_minor": 4
}
