{
 "cells": [
  {
   "cell_type": "code",
   "execution_count": 1,
   "metadata": {
    "ExecuteTime": {
     "end_time": "2021-06-18T20:33:40.083444Z",
     "start_time": "2021-06-18T20:33:37.982521Z"
    }
   },
   "outputs": [],
   "source": [
    "import requests\n",
    "from bs4 import BeautifulSoup\n",
    "import pandas as pd\n",
    "import matplotlib.pyplot as plt\n",
    "import seaborn as sns\n",
    "from scipy import stats\n",
    "import numpy as np\n",
    "import statsmodels.api as sm\n",
    "import hockey_scraper\n",
    "import pickle\n",
    "import time\n",
    "import random\n",
    "import datetime\n",
    "pd.set_option('display.max_columns', None)"
   ]
  },
  {
   "cell_type": "code",
   "execution_count": 50,
   "metadata": {
    "ExecuteTime": {
     "end_time": "2021-06-17T21:41:31.117120Z",
     "start_time": "2021-06-17T21:41:31.114848Z"
    }
   },
   "outputs": [],
   "source": [
    "#game boxscore url\n",
    "url = 'https://statsapi.web.nhl.com/api/v1/game/{}/boxscore'.format(game_id)"
   ]
  },
  {
   "cell_type": "code",
   "execution_count": null,
   "metadata": {},
   "outputs": [],
   "source": [
    "#roster url for future uses \n",
    "'https://statsapi.web.nhl.com/api/v1/teams?expand=team.roster&season=20142015'"
   ]
  },
  {
   "cell_type": "code",
   "execution_count": 2,
   "metadata": {
    "ExecuteTime": {
     "end_time": "2021-06-18T20:33:43.673877Z",
     "start_time": "2021-06-18T20:33:43.669543Z"
    }
   },
   "outputs": [],
   "source": [
    "#schedule url, date format: 2018-01-09\n",
    "\n",
    "def get_yesterdays_game_ids():\n",
    "    yesterday = datetime.date.today()- datetime.timedelta(days=1)\n",
    "    url = 'https://statsapi.web.nhl.com/api/v1/schedule?date={}'.format(yesterday.strftime('%Y-%m-%d'))\n",
    "    r = requests.get(url)\n",
    "    y_sched = r.json()\n",
    "\n",
    "    game_id = []\n",
    "    for game in y_sched['dates'][0]['games']:\n",
    "        game_id.append(game['gamePk'])\n",
    "    \n",
    "    return game_id"
   ]
  },
  {
   "cell_type": "code",
   "execution_count": 3,
   "metadata": {
    "ExecuteTime": {
     "end_time": "2021-06-18T20:33:44.675119Z",
     "start_time": "2021-06-18T20:33:44.230875Z"
    }
   },
   "outputs": [
    {
     "data": {
      "text/plain": [
       "[2020030323]"
      ]
     },
     "execution_count": 3,
     "metadata": {},
     "output_type": "execute_result"
    }
   ],
   "source": [
    "get_yesterdays_game_ids()"
   ]
  },
  {
   "cell_type": "code",
   "execution_count": 73,
   "metadata": {
    "ExecuteTime": {
     "end_time": "2021-06-18T21:10:25.762488Z",
     "start_time": "2021-06-18T21:10:25.755619Z"
    },
    "scrolled": true
   },
   "outputs": [],
   "source": [
    "#get goalie ids from yesterdays games\n",
    "def get_goalie_ids():\n",
    "    goalie_id = {}\n",
    "    for game_id in get_yesterdays_game_ids():\n",
    "        url = 'https://statsapi.web.nhl.com/api/v1/game/{}/boxscore'.format(game_id)\n",
    "        r = requests.get(url)\n",
    "        box_score = r.json()\n",
    "        for e in ['home', 'away']:\n",
    "            temp_id = []\n",
    "            temp_id.extend(box_score['teams'][e]['goalies'])\n",
    "            for pid in temp_id:\n",
    "                name = box_score['teams'][e]['players']['ID'+str(pid)]['person']['fullName']\n",
    "                goalie_id[name] = pid\n",
    "    return goalie_id\n",
    "    \n",
    "\n",
    "        \n",
    "    \n",
    "    "
   ]
  },
  {
   "cell_type": "code",
   "execution_count": 74,
   "metadata": {
    "ExecuteTime": {
     "end_time": "2021-06-18T21:10:40.927955Z",
     "start_time": "2021-06-18T21:10:40.397194Z"
    }
   },
   "outputs": [
    {
     "data": {
      "text/plain": [
       "{'Semyon Varlamov': 8473575, 'Andrei Vasilevskiy': 8476883}"
      ]
     },
     "execution_count": 74,
     "metadata": {},
     "output_type": "execute_result"
    }
   ],
   "source": [
    "get_goalie_ids()"
   ]
  },
  {
   "cell_type": "code",
   "execution_count": 28,
   "metadata": {
    "ExecuteTime": {
     "end_time": "2021-06-18T20:52:19.439710Z",
     "start_time": "2021-06-18T20:52:19.431981Z"
    }
   },
   "outputs": [],
   "source": [
    "def get_goalie_data(goalie_ids, start_year =2021, end_year = 2022):\n",
    "    counter = 0\n",
    "    for name, gid in goalie_ids.items():\n",
    "\n",
    "        sequence = [x/10 for x in range(60, 120)]\n",
    "        time.sleep(random.choice(sequence))\n",
    "        url = 'https://www.naturalstattrick.com/playerreport.php?fromseason={}&thruseason={}&playerid={}&sit=all&stype=2&stdoi=oi&rate=n&v=g'.format(start_year, end_year, gid)\n",
    "        #due to number of http requests, NST may ban your IP before the loop finishes. I needed to use a VPN to get around this. If IP gets banned, this function will still return the current DF and you can call the function again and pass in an updated goalie dictionary to get the rest\n",
    "        try:\n",
    "            individual_df = pd.read_html(url)[0]\n",
    "            individual_df['Name'] = name\n",
    "            individual_df['ID'] = gid\n",
    "        except:\n",
    "            print(f'Ended before {name}')\n",
    "            return all_goalies\n",
    "\n",
    "        if counter == 0:\n",
    "            all_goalies = individual_df\n",
    "            print(name)\n",
    "            print(counter)\n",
    "        elif counter != 0:\n",
    "            all_goalies = pd.concat([all_goalies, individual_df])\n",
    "            print(name)\n",
    "            print(counter)\n",
    "\n",
    "\n",
    "        counter +=1\n",
    "    \n",
    "    return all_goalies"
   ]
  },
  {
   "cell_type": "code",
   "execution_count": 75,
   "metadata": {
    "ExecuteTime": {
     "end_time": "2021-06-18T21:11:19.607388Z",
     "start_time": "2021-06-18T21:11:04.257972Z"
    }
   },
   "outputs": [
    {
     "name": "stdout",
     "output_type": "stream",
     "text": [
      "Semyon Varlamov\n",
      "0\n",
      "Andrei Vasilevskiy\n",
      "1\n"
     ]
    },
    {
     "data": {
      "text/html": [
       "<div>\n",
       "<style scoped>\n",
       "    .dataframe tbody tr th:only-of-type {\n",
       "        vertical-align: middle;\n",
       "    }\n",
       "\n",
       "    .dataframe tbody tr th {\n",
       "        vertical-align: top;\n",
       "    }\n",
       "\n",
       "    .dataframe thead th {\n",
       "        text-align: right;\n",
       "    }\n",
       "</style>\n",
       "<table border=\"1\" class=\"dataframe\">\n",
       "  <thead>\n",
       "    <tr style=\"text-align: right;\">\n",
       "      <th></th>\n",
       "      <th>Game</th>\n",
       "      <th>Team</th>\n",
       "      <th>TOI</th>\n",
       "      <th>CF</th>\n",
       "      <th>CA</th>\n",
       "      <th>CF%</th>\n",
       "      <th>FF</th>\n",
       "      <th>FA</th>\n",
       "      <th>FF%</th>\n",
       "      <th>SF</th>\n",
       "      <th>SA</th>\n",
       "      <th>SF%</th>\n",
       "      <th>GF</th>\n",
       "      <th>GA</th>\n",
       "      <th>GF%</th>\n",
       "      <th>xGF</th>\n",
       "      <th>xGA</th>\n",
       "      <th>xGF%</th>\n",
       "      <th>SCF</th>\n",
       "      <th>SCA</th>\n",
       "      <th>SCF%</th>\n",
       "      <th>SCGF</th>\n",
       "      <th>SCGA</th>\n",
       "      <th>SCGF%</th>\n",
       "      <th>HDCF</th>\n",
       "      <th>HDCA</th>\n",
       "      <th>HDCF%</th>\n",
       "      <th>HDGF</th>\n",
       "      <th>HDGA</th>\n",
       "      <th>HDGF%</th>\n",
       "      <th>MDCF</th>\n",
       "      <th>MDCA</th>\n",
       "      <th>MDCF%</th>\n",
       "      <th>MDGF</th>\n",
       "      <th>MDGA</th>\n",
       "      <th>MDGF%</th>\n",
       "      <th>LDCF</th>\n",
       "      <th>LDCA</th>\n",
       "      <th>LDCF%</th>\n",
       "      <th>LDGF</th>\n",
       "      <th>LDGA</th>\n",
       "      <th>LDGF%</th>\n",
       "      <th>On-Ice SH%</th>\n",
       "      <th>On-Ice SV%</th>\n",
       "      <th>PDO</th>\n",
       "      <th>Off. Zone Starts</th>\n",
       "      <th>Neu. Zone Starts</th>\n",
       "      <th>Def. Zone Starts</th>\n",
       "      <th>On The Fly Starts</th>\n",
       "      <th>Off. Zone Start %</th>\n",
       "      <th>Off. Zone Faceoffs</th>\n",
       "      <th>Neu. Zone Faceoffs</th>\n",
       "      <th>Def. Zone Faceoffs</th>\n",
       "      <th>Off. Zone Faceoff %</th>\n",
       "      <th>Name</th>\n",
       "      <th>ID</th>\n",
       "    </tr>\n",
       "  </thead>\n",
       "  <tbody>\n",
       "  </tbody>\n",
       "</table>\n",
       "</div>"
      ],
      "text/plain": [
       "Empty DataFrame\n",
       "Columns: [Game, Team, TOI, CF, CA, CF%, FF, FA, FF%, SF, SA, SF%, GF, GA, GF%, xGF, xGA, xGF%, SCF, SCA, SCF%, SCGF, SCGA, SCGF%, HDCF, HDCA, HDCF%, HDGF, HDGA, HDGF%, MDCF, MDCA, MDCF%, MDGF, MDGA, MDGF%, LDCF, LDCA, LDCF%, LDGF, LDGA, LDGF%, On-Ice SH%, On-Ice SV%, PDO, Off. Zone Starts, Neu. Zone Starts, Def. Zone Starts, On The Fly Starts, Off. Zone Start %, Off. Zone Faceoffs, Neu. Zone Faceoffs, Def. Zone Faceoffs, Off. Zone Faceoff %, Name, ID]\n",
       "Index: []"
      ]
     },
     "execution_count": 75,
     "metadata": {},
     "output_type": "execute_result"
    }
   ],
   "source": [
    "get_goalie_data(get_goalie_ids())"
   ]
  },
  {
   "cell_type": "code",
   "execution_count": null,
   "metadata": {},
   "outputs": [],
   "source": [
    "def goalie_features(df, rolling_games = 40):\n",
    "    rolling_games = rolling_games\n",
    "    min_games = 10\n",
    "    df['Date'] = df['Game'].apply(lambda x: pd.to_datetime(x[0:10]))\n",
    "    df['Team_Key'] = df['Team'].astype(str)+'_'+df['Date'].astype(str)\n",
    "    \n",
    "    df['Rolling_TOI'] = df.groupby('ID')['TOI'].transform(lambda x: x.rolling(rolling_games, min_games).sum().shift())\n",
    "    df['Rolling_FA'] = df.groupby('ID')['FA'].transform(lambda x: x.rolling(rolling_games, min_games).sum().shift())\n",
    "    df['Rolling_SA'] = df.groupby('ID')['SA'].transform(lambda x: x.rolling(rolling_games, min_games).sum().shift())\n",
    "    df['Rolling_GA'] = df.groupby('ID')['GA'].transform(lambda x: x.rolling(rolling_games, min_games).sum().shift())\n",
    "    df['Rolling_xGA'] = df.groupby('ID')['xGA'].transform(lambda x: x.rolling(rolling_games, min_games).sum().shift())\n",
    "    df['Rolling_HDCA'] = df.groupby('ID')['HDCA'].transform(lambda x: x.rolling(rolling_games, min_games).sum().shift())\n",
    "    df['Rolling_HDGA'] = df.groupby('ID')['HDGA'].transform(lambda x: x.rolling(rolling_games, min_games).sum().shift())\n",
    "    \n",
    "    df['Goalie_FenwickSV%'] =  (df['Rolling_FA'] - df['Rolling_GA']) /  df['Rolling_FA']\n",
    "    df['Goalie_GSAx'] = df['Rolling_xGA'] - df['Rolling_GA']\n",
    "    df['Goalie_GSAx/60'] =  df['Goalie_GSAx']*60 /  df['Rolling_TOI']\n",
    "    df['Goalie_HDCSV%'] = (df['Rolling_HDCA'] - df['Rolling_HDGA'] ) / df['Rolling_HDCA'] \n",
    "    return df"
   ]
  }
 ],
 "metadata": {
  "kernelspec": {
   "display_name": "Python 3",
   "language": "python",
   "name": "python3"
  },
  "language_info": {
   "codemirror_mode": {
    "name": "ipython",
    "version": 3
   },
   "file_extension": ".py",
   "mimetype": "text/x-python",
   "name": "python",
   "nbconvert_exporter": "python",
   "pygments_lexer": "ipython3",
   "version": "3.8.3"
  },
  "toc": {
   "base_numbering": 1,
   "nav_menu": {},
   "number_sections": true,
   "sideBar": true,
   "skip_h1_title": false,
   "title_cell": "Table of Contents",
   "title_sidebar": "Contents",
   "toc_cell": false,
   "toc_position": {},
   "toc_section_display": true,
   "toc_window_display": false
  },
  "varInspector": {
   "cols": {
    "lenName": 16,
    "lenType": 16,
    "lenVar": 40
   },
   "kernels_config": {
    "python": {
     "delete_cmd_postfix": "",
     "delete_cmd_prefix": "del ",
     "library": "var_list.py",
     "varRefreshCmd": "print(var_dic_list())"
    },
    "r": {
     "delete_cmd_postfix": ") ",
     "delete_cmd_prefix": "rm(",
     "library": "var_list.r",
     "varRefreshCmd": "cat(var_dic_list()) "
    }
   },
   "types_to_exclude": [
    "module",
    "function",
    "builtin_function_or_method",
    "instance",
    "_Feature"
   ],
   "window_display": false
  }
 },
 "nbformat": 4,
 "nbformat_minor": 4
}
